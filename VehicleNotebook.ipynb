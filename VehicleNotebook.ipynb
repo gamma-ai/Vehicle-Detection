{
 "cells": [
  {
   "cell_type": "code",
   "execution_count": 1,
   "metadata": {
    "ExecuteTime": {
     "end_time": "2018-07-25T17:20:59.843445Z",
     "start_time": "2018-07-25T17:20:44.517268Z"
    }
   },
   "outputs": [],
   "source": [
    "import cv2\n",
    "filename = 'traffic1.avi'\n",
    "cap = cv2.VideoCapture(filename)\n",
    "reference_frame =None #first frame\n",
    "image_area = None\n",
    "while True:\n",
    "    ret,frame = cap.read()\n",
    "    #print ret = frame = True, last frame =false\n",
    "\n",
    "    if ret is False:\n",
    "        break\n",
    "\n",
    "    else: #getting grayscale/threshold frame\n",
    "        if reference_frame is None:\n",
    "            reference_frame = frame\n",
    "            reference_frame = cv2.cvtColor(reference_frame,cv2.COLOR_BGR2GRAY)\n",
    "            image_area = reference_frame.shape[0] * reference_frame.shape[1]\n",
    "            continue\n",
    "###COLORSCALES#######\n",
    "        gray = cv2.cvtColor(frame,cv2.COLOR_BGR2GRAY)\n",
    "        difference = cv2.absdiff(reference_frame,gray)\n",
    "        blur = cv2.medianBlur(difference,31)\n",
    "####FIND CONTOURS\n",
    "        f, threshold = cv2.threshold(blur,20,255,cv2.THRESH_BINARY)\n",
    "        (_,contours,_) = cv2.findContours(threshold,cv2.RETR_TREE,cv2.CHAIN_APPROX_SIMPLE)\n",
    "######DRAW CONTOURS\n",
    "        for i in contours:\n",
    "            contour_area = cv2.contourArea(i)\n",
    "            if (contour_area > 0.001*image_area)and( contour_area <0.08 *image_area): #-->removing false contours\n",
    "                (x,y,w,h)=cv2.boundingRect(i) #--> RECTANGLE FOR EACH CAR\n",
    "                cv2.rectangle(frame,(x,y),(x+w,y+h),(255,0,255),2) ###-> COLOR FOR BOX\n",
    "\n",
    "        cv2.imshow(\"frames\",frame)\n",
    "        if cv2.waitKey(1) == ord('q'):\n",
    "            break\n",
    "cv2.destroyAllWindows()"
   ]
  },
  {
   "cell_type": "code",
   "execution_count": null,
   "metadata": {},
   "outputs": [],
   "source": []
  }
 ],
 "metadata": {
  "kernelspec": {
   "display_name": "Python 3",
   "language": "python",
   "name": "python3"
  },
  "language_info": {
   "codemirror_mode": {
    "name": "ipython",
    "version": 3
   },
   "file_extension": ".py",
   "mimetype": "text/x-python",
   "name": "python",
   "nbconvert_exporter": "python",
   "pygments_lexer": "ipython3",
   "version": "3.6.5"
  }
 },
 "nbformat": 4,
 "nbformat_minor": 2
}
